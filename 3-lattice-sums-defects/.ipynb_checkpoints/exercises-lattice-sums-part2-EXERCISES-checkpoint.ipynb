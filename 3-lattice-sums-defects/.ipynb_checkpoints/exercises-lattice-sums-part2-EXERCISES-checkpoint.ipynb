{
 "cells": [
  {
   "cell_type": "markdown",
   "metadata": {},
   "source": [
    "### PS3: Lattice Sums of non-perfect solids\n",
    "\n",
    "Pre-reqs:\n",
    "- jupyterlab-myst: https://github.com/executablebooks/jupyterlab-myst"
   ]
  },
  {
   "cell_type": "markdown",
   "metadata": {},
   "source": [
    "## Context and Motivations\n",
    "\n",
    "In the last problem set, we considered the properties of perfect cubic solids.\n",
    "We now consider the properties of non-perfect solids, e.g., solids with defects.\n",
    "We similarly need to find the minimum of energy with respect to not only the lattice parameters but also with respect to the atom positions in the vicinity of the defect.\n",
    "\n",
    "Consider a solid with a vacancy.\n",
    "We can create a vacancy by simply removing one of the atoms in our FCC supercell structure.\n",
    "All atoms around that vacancy will relax away from the equilibrium positions of the perfect solid.\n",
    "The change in energy between the system with the vacancy and the system without the vacancy is then the vacancy defect formation energy (excluding a chemical potential of the removed atom).\n",
    "\n",
    "Suppose we want to find the vacancy formation energy in a system with atoms that interact with the Lennard-Jones potential\n",
    "\n",
    "$\\phi(r) = \\frac{B}{r^{12}} - \\frac{A}{r^6}$\n",
    "\n",
    "where the input is $r$ and the output is $\\phi$. Often, the Lennard-Jones potential is written into a dimensionally more useful form that depends on two parameters: $\\sigma$, which is the distance at which the potential is zero $\\phi(\\sigma) = 0$, and $\\epsilon$, which is the absolute value of the minimum of the potential with units of energy. \n",
    "With these two parameters, the Lennard-Jones potential looks like\n",
    "\n",
    "$\\phi(r) = 4\\varepsilon\\Big[ \\Big(\\frac{\\sigma}{r}\\Big)^{12} - \\Big(\\frac{\\sigma}{r}\\Big)^{6}\\Big]$,\n",
    "\n",
    "where $\\sigma = (B/A)^{1/6}$ and $\\epsilon = A^2/4B$. \n",
    "The Lennard-Jones Potential is sometimes written in an equivalent form in terms of the position of the minimum $r_m$. \n",
    "One may easily derive that $r_m = 2^{1/6} \\sigma$ and $\\phi(r_m) = -\\epsilon$ where $\\epsilon$ corresponds to the well depth,\n",
    "\n",
    "$\\phi(r) = \\epsilon\\Big[ \\Big(\\frac{r_m}{r}\\Big)^{12} -2 \\Big(\\frac{r_m}{r}\\Big)^6\\Big]$.\n",
    "\n",
    "We need to set up a system from which we can remove the atom and then compare the energy of that system ($E_{vac}$) with the defect-free sysm ($E_{bulk}$).\n",
    "In the case of a vacancy in the FCC cell, the vacancy formation energy may be computed as\n",
    "\n",
    "$ \\Delta U = E_{vac} - \\frac{n-1}{n} E_{bulk} $ \n",
    "\n",
    "where the chemical potential of the removed atom has been subsumed in the second term.\n",
    "\n",
    "We will use an FCC lattice with periodic boundary conditions.\n",
    "Because the system is periodic, introducing the vacancy will also create a vacancy in any periodic image leading to a vacancy concentration of $X_V = 1/n$ where $n$ is the number of atoms in the simulation cell.\n",
    "Clearly, the values of $X_V$ simulated are far larger than those found in real systems.\n",
    "To test whether we are simulating the dilute limit (i.e., isolated defects), we do a convergence test of the simulation cell size until the energy converges.\n",
    "More advanced methods can also be used, such as embedding the small system into an elastic continuum."
   ]
  },
  {
   "cell_type": "markdown",
   "metadata": {},
   "source": [
    "## Exercises: cubic solids"
   ]
  },
  {
   "cell_type": "markdown",
   "metadata": {},
   "source": [
    "1. Using a Lennard-Jones potential with $\\varepsilon = 0.3429$ eV and $r_m = 2.553$ Å, calculate the vacancy formation energy for Cu in the FCC structure. Assume the experimental lattice parameter and neglect any lattice relaxations. Use a cutoff distance $r_c$ equal to the distance to the third nearest neighbor. Look up an experimental value for the vacancy formation energy. How close if your result to the literature value? What are some reasons for the discrepancy between computed and experimental values?"
   ]
  },
  {
   "cell_type": "markdown",
   "metadata": {},
   "source": [
    "2. Relax the atomic positions in the nearest shell of neighbors to the vacancy by varying the positions of the atoms until the energy is a minimum. How does the energy change? What direction do the atoms in the nearest shell move? How much does the energy change?"
   ]
  },
  {
   "cell_type": "markdown",
   "metadata": {},
   "source": [
    "## Exercises: non-cubic solids"
   ]
  },
  {
   "cell_type": "markdown",
   "metadata": {},
   "source": [
    "Suppose we want to model a system that is not a cubic structure.\n",
    "As outlined in the textbook, we can write the atomic positions in fractions of the unit cell as done before.\n",
    "The distance between two atoms with indices $i$ and $j$ in the full, non-cubic cell is\n",
    "\n",
    "$r_{ij}^2 = \\vec{s}_{ij}^T \\mathbf{G} \\vec{s}_{ij} = \\vec{s}_{ij} \\cdot (\\mathbf{G} \\vec{s}_{ij})$\n",
    "\n",
    "where $\\vec{s}_{ij} = \\vec{s}_j - \\vec{s}_i$ and $\\mathbf{G}$ is the metric tensor\n",
    "\n",
    "$\\mathbf{G} = \\begin{pmatrix}\n",
    "a^2 & ab\\cos(\\gamma) & ac\\cos(\\beta) \\\\\n",
    "ab\\cos(\\gamma) & b^2 & bc\\cos(\\alpha) \\\\\n",
    "ac\\cos(\\beta) & bc\\cos(\\alpha) & c^2 \n",
    "\\end{pmatrix}\n",
    "$\n",
    "\n",
    "where $a,b,c,\\alpha,\\beta,\\gamma$ are the standard lattice constants.\n",
    "\n",
    "We can evaluate the distance between two atoms $r_{ij}$ as follows.\n",
    "Suppose we consider a vector $\\vec{t} = (t_1,t_2,t_3)$ and a $3\\times 3$ matrix $\\mathbf{G}$, we have\n",
    "\n",
    "$\\vec{t}^T \\mathbf{G} \\vec{t} = \\vec{t} \\cdot (\\mathbf{G} \\vec{t}) = t_i \\cdot G_{ij} t_j$\n",
    "\n",
    "where repeated indices are summed. \n",
    "As $\\mathbf{G}$ is a symmetric matrix, $G_{ij} = G_{ji}$, we can explicitly evaluate the above terms.\n",
    "\n",
    "$\\vec{t}^T \\mathbf{G} \\vec{t} =  G_{11} t^2 + G_{22} t_2^2 + 2G_{12}t_1 t_2  + 2 G_{13} t_1 t_3 + 2G_{23} t_2 t_3 \n",
    "=  a^2 t_1^2 + b^2 t_2^2 + c^2 t_3^2 + 2ab\\cos(\\gamma)t_1 t_2 + 2ac\\cos(\\beta)t_1 t_3 + 2bc\\cos(\\alpha)t_2 t_3\n",
    "$\n",
    "\n",
    "Thus, in order to evaluate the distances between atoms $r_{ij}$, we replace\n",
    "```dist = a * sqrt(xij**2 + yij**2 + zij**2);```\n",
    "with\n",
    "```\n",
    "dist = sqrt(a**2*xij^2 + b**2*yij^2 + c**2*zij^2\n",
    "         + 2.*a*b*cos(gamma)*xij*yij\n",
    "         + 2.*a*c*cos(beta)*xij*zij\n",
    "         + 2.*b*c*cos(alpha)*yij*zij);\n",
    "```"
   ]
  },
  {
   "cell_type": "markdown",
   "metadata": {},
   "source": [
    "3. Rewrite the codes from Part 1 for evaluating the energy of a non-cubic lattice. Assuming the same scaled positions as in an FCC lattice, evaluate the energy as a function of $a,b,c$ while keeping the lattice angles 90$^o$. Which structure is more stable, the cubic or a non-cubic structure in which the lattice parameters are allowed to vary?"
   ]
  },
  {
   "cell_type": "markdown",
   "metadata": {},
   "source": [
    "4. A very well-known transition called the Bain transition involves the transformation of a BCC lattice to an FCC lattice, and vice versa. While these two structures seem different at face value, one may relate the BCC structure to the FCC structure via a simple path. Namely, the BCC structure can be described as a face-centered tetragonal (FCT) structure with specific relations between the lattice parameters. In the FCT structure, the lattice positions (in fractional coordinates) are the same as those in the FCC structure, as illustrated in the figure below. If we set $a = \\sqrt(2)c$ in the FCT structure, then it becomes a BCC structure. You can show this by evaluating the energy for an FCT structure with $a = \\sqrt(2)c$ and the same volume per atom as found in Problem 4 of Part 1. Do you find the same lattice energy (assuming the same cutoff distances)?\n",
    "\n",
    "```{figure} ./figs/fcc-to-bcc-bain.png\n",
    ":name: diffusion\n",
    ":alt: Diffusion barrier\n",
    ":align: center\n",
    ":width: 300 px\n",
    "\n",
    "Bain transition from FCC to BCC."
   ]
  }
 ],
 "metadata": {
  "kernelspec": {
   "display_name": "Python 3 (ipykernel)",
   "language": "python",
   "name": "python3"
  },
  "language_info": {
   "codemirror_mode": {
    "name": "ipython",
    "version": 3
   },
   "file_extension": ".py",
   "mimetype": "text/x-python",
   "name": "python",
   "nbconvert_exporter": "python",
   "pygments_lexer": "ipython3",
   "version": "3.9.12"
  }
 },
 "nbformat": 4,
 "nbformat_minor": 4
}
