{
 "cells": [
  {
   "cell_type": "markdown",
   "metadata": {},
   "source": [
    "# PS1: Random Walk Model for Diffusion\n",
    "\n",
    "Pre-reqs:\n",
    "- jupyterlab-myst: https://github.com/executablebooks/jupyterlab-myst"
   ]
  },
  {
   "cell_type": "markdown",
   "metadata": {},
   "source": [
    "## Context and Motivations\n",
    "\n",
    "In this problem set, we explore one of the simplest models for random walk diffusion.\n",
    "While the lattice models here are somewhat removed from an actual material, the random walk diffusion model will introduce many basic concepts behind computer simulations in materials science. \n",
    "\n",
    "If atoms are restricted to lattice sites and all sites are occupied, there is no diﬀusion in a material. \n",
    "However, at any finite temperature temperature, there is a finite equilibrium concentration of vacancies. \n",
    "Atoms can then move through the lattice by jumping to an adjacent unoccupied lattice site. \n",
    "\n",
    "The simplest model for diﬀusion would then be to consider a single vacancy and its nearby atoms, measuring the vacancy diﬀusion constant. This low-concentration limit is called tracer diﬀusion.\n",
    "\n",
    "In this exercise, we will construct at simple model for tracer diffusion.\n",
    "The diffusivity of atom may be described as an Arrhenius relation\n",
    "\n",
    "$D = D_o \\exp\\Big({-\\frac{E_a}{k_B T}}\\Big)$\n",
    "\n",
    "That is, the diffusion of an atom to an adjacent lattice site must overcome an energetic potential barrier $E_a$.\n",
    "As is evident in the Arrhenius relation, the diffusivity increases with temperature, as atoms have more thermal energy to overcome the energy barrier. \n",
    "\n",
    "A physical model to understand where this energy barrier comes from is shown in the figure below.\n",
    "\n",
    "\n",
    "![alt text](./figs/diffusion.png \"Microscopic picture of diffusion.\")\n",
    "\n",
    "Consider how we might construct a simple model for tracer diffusion. \n",
    "As an atom jumps from its site to an adjacent occupied site, it must overcome a potential barrier, which depends on details of the local crystallography and temperature. \n",
    "To calculate an absolute diffusion rate requires then a determination of the activated jump process.\n",
    "\n",
    "How can we model this? \n",
    "One could imagine using a method in which we calculate all the forces between atoms and solve the equation of motion of the atoms. \n",
    "This approach, called molecular dynamics, would give us accurate diﬀusion constants, depending on the quality of the models used to describe the interactions. \n",
    "We will cover the basics of molecular dynamics in a later problem set. \n",
    "Another approach, called Kinetic Monte Carlo, also incorporates details of interatomic interactions, but requires a great deal of development before we can apply it.\n",
    "\n",
    "Instead, we may turn to a simpler model to extract essential characteristics of diffusion.\n",
    "The simplest of such models is a random walk model, in which most of the details are ignored: there are no interatomic interactions included in the model, the jump rates are assumed to be the same for all possible jumps and the timescale is measured relative to the jump rate, etc.\n",
    "\n",
    "We start with a two-dimensional square lattice with one vacancy. \n",
    "One could do a simulation in which we try to move all the atoms. \n",
    "Since only those atoms next to a vacancy can move, it is equivalent to just move the vacancy. \n",
    "We will do a random walk, by which we mean we shall let it move around the system, where hops to any of the four nearest neighbors is chosen by a random number. \n",
    "We will then measure the mean square displacement $\\langle r^2 \\rangle$, which is related to the diﬀusion constant.\n",
    "\n",
    "$D = \\frac{1}{6t}\\langle r^2 \\rangle$\n",
    "\n",
    "Here we outline the basic approach for a random walk on a two-dimensional square lattice. \n",
    "While we assume a square lattice, it is important to note that in this approach, there is actually no lattice. \n",
    "The symmetry is defined by the jumps. \n",
    "Thus, as we will find in following exercises, extension to other crystal systems is straightforward.\n",
    "\n",
    "In this class, we will use Python, an open-source object-oriented programming language that is widely used in the materials science community. \n",
    "Adaptation to other scientific programming languages such as Fortran, C++, or MATLAB would be relatively straight forward."
   ]
  },
  {
   "cell_type": "markdown",
   "metadata": {},
   "source": [
    "## Random walk on a square lattice"
   ]
  },
  {
   "cell_type": "code",
   "execution_count": 1,
   "metadata": {},
   "outputs": [],
   "source": [
    "## Code for generating a single trajectory on square lattice\n",
    "\n",
    "## a magic command that will transplant the *.py script directly as code\n",
    "# %load lattice_2D.py  \n",
    "\n",
    "## a magic command that will show the contents of the *.py script\n",
    "##   copy the code below into a file called lattice_2D.py in a folder called code_exercises\n",
    "##   and reload this cell.\n",
    "%pycat lattice_2D.py   "
   ]
  },
  {
   "cell_type": "markdown",
   "metadata": {},
   "source": [
    "``` python\n",
    "# Random walk on a 2D lattice\n",
    "\n",
    "import numpy as np\n",
    "\n",
    "def random_walk(nt,latt_type):\n",
    "    \"\"\"\n",
    "    Random walk on a 2D lattice\n",
    "    Inputs:\n",
    "        nt [integer] = number of desired jumps (i.e., time steps)\n",
    "        latt_type [string] = lattice geometry, current options \n",
    "                             are 'square' and 'triangle\n",
    "    Outputs:\n",
    "        rs2 [array] = square displacement at each time step\n",
    "        x   [array] = x-coordinate at each time step\n",
    "        y   [array] = y-coordinate at each time step\n",
    "    \"\"\"\n",
    "    # array for x- and y-coordinates along hopping path\n",
    "    x = np.zeros(nt+1)\n",
    "    y = np.zeros(nt+1)\n",
    "    rs2 = np.zeros(nt+1)\n",
    "\n",
    "    # particle starts at origin\n",
    "    x[0] = 0 \n",
    "    y[0] = 0\n",
    "    rs2[0] = 0\n",
    "\n",
    "    ## square lattice\n",
    "    if latt_type == 'square':\n",
    "        # create a list of random numbers from 1 to 4 with nt entries\n",
    "        fd = np.floor(4 * np.random.rand(nt))\n",
    "        # next two lines define the jumps on the square lattice:\n",
    "        #   right, up, left, down\n",
    "        delx = np.array([1, -1, 0, 0])\n",
    "        dely = np.array([0, 0, 1, -1])\n",
    "    else:\n",
    "        raise ValueError(\"Lattice type not implemented! See random_walk.py\")\n",
    "         \n",
    "    # loop over nt jumps, add the jump vector as generated randomly in fd\n",
    "    #sum over nt jumps\n",
    "    for j in range(nt):\n",
    "        x[j+1] = x[j] + delx[int(fd[j])] # x position at j+1 jump\n",
    "        y[j+1] = y[j] + dely[int(fd[j])] # y position at j+1 jump\n",
    "\n",
    "        # square displacement position at j+1 jump in 2D\n",
    "        rs2[j+1] = x[j+1]**2 + y[j+1]**2 \n",
    "\n",
    "    return rs2, x, y\n",
    "```"
   ]
  },
  {
   "cell_type": "markdown",
   "metadata": {},
   "source": [
    "The code is relatively straightforward. \n",
    "- We create a set of arrays that will separately track the x- and y- coordinates\n",
    "- We initialize the position of the random walker to be at the origin for the first step\n",
    "- A list of $nt$ randomly-generated numbers between 1 and 4 is initialized and will be used to choose the sequence of hops\n",
    "    - We use the in-built ```numpy``` function ```random.rand```\n",
    "    - ```random.rand``` returns a list of random numbers between 0 and 1 (excluding 1)\n",
    "    - Each entry is multiplied by the number of nearest neighbors to return an array of number between 0 and 4 (excluding 4)\n",
    "    - In order to obtain of a list of randomly-generated integers as indices for choosing each hop, we use the ```floor(x)``` function, which rounds $x$ down to the smaller integer. \n",
    "    \n",
    "For a square lattice, there are four possible jumps, given by four vectors:\n",
    "\n",
    "```\n",
    "delx(0), dely(0) = (1,0) = right\n",
    "delx(1), dely(1) = (-1,0) = left\n",
    "delx(2), dely(2) = (0,1) = up\n",
    "delx(3), dely(3) = (0,-1) = down\n",
    "```\n",
    "\n",
    "In the ```for``` loop, we use the randomly-generated numbers in ```fd``` to index ```delx``` and ```dely``` in order to choose each subsequent hop, thus picking a random jump direction. \n",
    "The resulting displacement described by ```delx``` and ```dely``` is added to the current position.\n",
    "After each jump, the square displacement ```rs2``` is computed.\n",
    "The user determines the total number of steps taken in each trajectory by specifying ```nt```.\n",
    "The function defined for random walk on a square lattice returns the square of the displacement ```rs2``` and the positions $(x,y)$ at each step.\n",
    "\n",
    "The function ```random_walk_square``` computes one trajectory (i.e., a sequence of jumps). \n",
    "In order to compute a <b> mean square displacement </b>, we need to run many trajectories and average over them."
   ]
  },
  {
   "cell_type": "code",
   "execution_count": 2,
   "metadata": {},
   "outputs": [],
   "source": [
    "## Code for determining average mean square displacement over many trajectories \n",
    "\n",
    "##   copy the code below into a file called avg_rand_walk2D.py in a folder called code_exercises\n",
    "##   and reload this cell.\n",
    "%pycat avg_rand_walk_2D.py"
   ]
  },
  {
   "cell_type": "markdown",
   "metadata": {},
   "source": [
    "``` python\n",
    "import numpy as np\n",
    "from lattice_2D import random_walk\n",
    "\n",
    "def avg_rand_walk(nt, nd, latt_type):\n",
    "    \"\"\" Average over many trajectories of random walkers\n",
    "        Input:\n",
    "            nt (integer) = number of jumps\n",
    "            nd (integer) = number of trials \n",
    "            latt_type (string) = type of lattice,\n",
    "                                 \"square\" or \"triangular\" implemented\n",
    "        Output:\n",
    "            rwa (list; float) = mean square displacement of each trajectory\n",
    "            ree (list; float) = end-to-end distance for each trial\n",
    "            sig (list; float) = relative standard deviation of <r^2>\n",
    "                                of each trajectory\n",
    "    \"\"\"\n",
    "\n",
    "    # Initialize the variables for calculating <R^2> and <R^4>\n",
    "    rwa = np.zeros(nt+1)\n",
    "    ree = np.zeros(nd)\n",
    "    sig = np.zeros(nt+1)\n",
    "\n",
    "    # Loop over trials\n",
    "    for j in range(nd):\n",
    "        # Call random walker code from above to generate a trajectory\n",
    "        g, x, y = random_walk(nt,latt_type)\n",
    "\n",
    "        # Calculate end-to-end distance, 2D\n",
    "        # index last element\n",
    "        ree[j] = np.sqrt(x[-1]**2 + y[-1]**2 )\n",
    "\n",
    "        # Increment R^2 and R^4 at each time step (jump)\n",
    "        for k in range(nt+1):\n",
    "            rwa[k] += g[k]\n",
    "            sig[k] += g[k] ** 2\n",
    "\n",
    "    # Find averages by dividing by the number of trials\n",
    "    # Note: rwa[0] is 0 by definition, will throw a NaN warning \n",
    "    for k in range(nt+1):\n",
    "        rwa[k] /= nd\n",
    "        sig[k] = (sig[k] / float(nd) - rwa[k] ** 2) / rwa[k] ** 2\n",
    "\n",
    "    return rwa, ree, sig\n",
    "```"
   ]
  },
  {
   "cell_type": "markdown",
   "metadata": {},
   "source": [
    "##  ============= Exercises =============="
   ]
  },
  {
   "cell_type": "markdown",
   "metadata": {
    "tags": []
   },
   "source": [
    "### Random walk on different types of lattices\n",
    "\n",
    "In these exercises, there is no prescription on how to organize your code, but it is highly recommended that you think about how to organize your code and anticipate modifications of new additions to the code.\n",
    "\n",
    "1. Consider a random walk on a 2D square lattice: \\\n",
    "    a. Use the code provided or write a new one and run it. \\\n",
    "    b. Plot at least two trajectories and compare. \\\n",
    "    c. Calculate the mean square displacement. Examine the behavior of the mean square displacement for a single run and for many runs. \\\n",
    "    d. How many runs are needed to obtain a straight line for the mean square displacement?"
   ]
  },
  {
   "cell_type": "markdown",
   "metadata": {},
   "source": [
    "2. Modify the code such that diffusion occurs on a 2D triangular lattice. Repeat the questions in 1. How do the results compare?"
   ]
  },
  {
   "cell_type": "markdown",
   "metadata": {},
   "source": [
    "3. Modify the code such that diffusion occurs on a 3D simple cubic lattice. Repeat the questions in 1. How do the results compare?"
   ]
  },
  {
   "cell_type": "markdown",
   "metadata": {},
   "source": [
    "4. Modify the code such that diffusion occurs on a 3D face-centered cubic lattice. Repeat the questions in 1. How do the results compare?"
   ]
  },
  {
   "cell_type": "markdown",
   "metadata": {},
   "source": [
    "### Statistics of the random-walk model\n",
    "\n",
    "Consider 1D diffusion along the $x$-axis starting at $x = 0$ in step sizes of $a$. \n",
    "There is an equal probability the particle will hop to the left or right.\n",
    "After $n$ jumps, we will record a final position $x_n$. \n",
    "Suppose we generate many such trajectories and average over them to find the probability of the particle at $x_n$ along the 1D lattice. \n",
    "The probability of finding the particle at $x_n$ would have the functional form of a Gaussian distribution. \n",
    "\n",
    "$I(x_n) = \\Big(\\frac{3}{2\\pi n a^2}\\Big)^{1/2} \\exp\\Big(-\\frac{3x_n^2}{2n a^2}\\Big)$\n",
    "\n",
    "In three-dimensions, the corresponding probability distribution of the position is given by\n",
    "\n",
    "$\\mathcal{P}(\\textbf{R}_n) = I(x_n)I(y_n)I(z_n)$\n",
    "\n",
    "where $\\textbf{R}_n = (x_n, y_n, z_n)$ and $I(y_n)$ and $I(z_n)$ have expressions similar to $I(x_n)$.\n",
    "\n",
    "A more useful quantitify would be the probability distribution of the end-to-end distance $R_n = |\\textbf{R}_n|$, i.e., a measure of how far the atom particle has diffused in $n$ steps. \n",
    "To find $\\mathcal{P}(R_n)$, the angular information contained in the distribution of $\\textbf{R}_n$ vectors must be averaged out, which can be accomplished by tranforming to spherical polar coordinates and integrating out the angles.\n",
    "Once that is done, we find the probability distribution of the end-to-end distance in 3D is\n",
    "\n",
    "$\\mathcal{P}(R_n) = \\Big(\\frac{3}{2\\pi n a^2}\\Big)^{3/2} 4\\pi R_n^2  \\exp\\Big(-\\frac{3R_n^2}{2n a^2}\\Big)$ \n",
    "\n",
    "5. Make separate plots showing $I(x_n)$ and $\\mathcal{P}(R_n)$. Provide a physical interpretation of the plot of $I(x_n)$ at large negative $-x_n$ values. How does the most probable point for $I(x_n)$ compare with that of $\\mathcal{P}(R_n)$?\n",
    "\n",
    "Supposed we have $m$ random-walk simulations giving us $m$ values for $R_n$ after $n$ jump sequences. \n",
    "Create a discrete representation of $\\mathcal{P}(R_n)$ for a specific set of values of $R_n$ by dividing the $m$ values into user-defined bins that represent a finite-range of $R_n$. \n",
    "In other words, create histogram by breaking up the data into $n_{bin}$ equally-spaced bins with bin width\n",
    "\n",
    "$\\Delta = \\frac{R_n^{max} - R_n^{min}}{n_{bin}}$\n",
    "\n",
    "Then determine $m_i$, number of $R_n$ that lies within each $i$th bin. \n",
    "The probability of a value $R_n$ is thus \n",
    "\n",
    "$\\mathcal{P}_i = m_i/m$\n",
    "\n",
    "6. Run a series of trajectories and implement a binning procedure to calculate the probability distribution of the end-to-end distance across a series of trajectories. Compare your histogram of $R_n$ from your computed trajectories with the predicted form of $\\mathcal{P}(R_n)$. \n",
    "\n",
    "     a. how many runs are needed to obtain well-converged results?\n",
    "     \n",
    "     b. how many bins are needed to obtain fine enough resolution?"
   ]
  }
 ],
 "metadata": {
  "kernelspec": {
   "display_name": "Python 3 (ipykernel)",
   "language": "python",
   "name": "python3"
  },
  "language_info": {
   "codemirror_mode": {
    "name": "ipython",
    "version": 3
   },
   "file_extension": ".py",
   "mimetype": "text/x-python",
   "name": "python",
   "nbconvert_exporter": "python",
   "pygments_lexer": "ipython3",
   "version": "3.9.7"
  }
 },
 "nbformat": 4,
 "nbformat_minor": 4
}
